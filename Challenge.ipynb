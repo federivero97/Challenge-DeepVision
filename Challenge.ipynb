{
 "cells": [
  {
   "cell_type": "markdown",
   "metadata": {},
   "source": [
    "### Implementacion el algoritmo greedy (estándar) de NMS\n",
    "Asumiendo que los bounding boxes (BB) son representados por las tuplas (x, y, w, h), en donde (x, y) son las coordenadas de la esquina superior derecha y (w, h) en ancho y alto de la BB en cuestión. Asumir coordenadas enteras. "
   ]
  },
  {
   "cell_type": "code",
   "execution_count": 1,
   "metadata": {},
   "outputs": [
    {
     "name": "stdout",
     "output_type": "stream",
     "text": [
      "([array([9, 2, 4, 4])], [8.3])\n"
     ]
    }
   ],
   "source": [
    "import numpy as np\n",
    "\n",
    "def substrac(A,B):\n",
    "    C = np.isin(A,B)\n",
    "    D = []\n",
    "    \n",
    "    for i in C:\n",
    "        D.append(not(i.all()))\n",
    "        \n",
    "    return A[D]\n",
    "\n",
    "\n",
    "def box_area(b):\n",
    "    return b[2]*b[3]\n",
    "\n",
    "\n",
    "def box_intersect_area(b1,b2):\n",
    "    b1x = []\n",
    "    for i in range(0,b1[2]):\n",
    "        b1x.append(b1[0]-i)\n",
    "\n",
    "    b1y = []\n",
    "    for i in range(0,b1[3]):\n",
    "        b1y.append(b1[1]-i)\n",
    "\n",
    "    b2x = []\n",
    "    for i in range(0,b2[2]):\n",
    "        b2x.append(b2[0]-i)\n",
    "\n",
    "    b2y = []\n",
    "    for i in range(0,b2[3]):\n",
    "        b2y.append(b2[1]-i)\n",
    "\n",
    "    x = np.size(np.intersect1d(b1x,b2x))\n",
    "    y = np.size(np.intersect1d(b1y,b2y))\n",
    "    \n",
    "    return x*y\n",
    "\n",
    "\n",
    "def iou(b1,b2):\n",
    "    \n",
    "    intersect_area = box_intersect_area(b1,b2)\n",
    "    union_area = box_area(b1) + box_area(b2) - intersect_area\n",
    "    \n",
    "    return intersect_area/union_area\n",
    "        \n",
    "    \n",
    "#Input: B = {b1,..,bN}, S = {s1,..,sN}, Nt\n",
    "#B is the list of initial detection boxes\n",
    "#S contains corresponding detection scores\n",
    "#Nt is the NMS threshold \n",
    "\n",
    "def soft_nms(B, S, Nt):\n",
    "    D = []\n",
    "    B1 = []\n",
    "    S1 = []\n",
    "    while (len(B)>1):\n",
    "        m = np.argmax(S)\n",
    "        M = B[m]\n",
    "        D.append(M)\n",
    "        B = substrac(B,M) \n",
    "        S1.append(S[m])\n",
    "        S = substrac(S,S[m]) \n",
    "        B = np.copy(B1)\n",
    "        \n",
    "        for i in range(0,len(B)):\n",
    "            if not(iou(M,B[i]) >= Nt):\n",
    "                B1.append(B[i])\n",
    "                S1.append(S[i])\n",
    "            \n",
    "    return D, S1\n",
    "\n",
    "\n",
    "#Example \n",
    "B = np.array([[8,1,3,5], [7,2,3,5], [9,2,4,4]])\n",
    "S = np.array([6.4, 7.4, 8.3])\n",
    "\n",
    "print(soft_nms(B,S,0.3))"
   ]
  },
  {
   "cell_type": "markdown",
   "metadata": {},
   "source": [
    "### ¿Cuál es la ventaja de soft-nms sobre NMS estándar? \n",
    "Soft-NMS mejora el rendimiento del algoritmo y posee una mayor presicion, ya que, vuelve a calificar las casillas vecinas en lugar de suprimirlas por completo, lo que conduce a una mejora en la precisión a valores más altos de recuperación.\n",
    "Soft-NMS ayuda en los casos en que las detecciones malas (falsos positivos) tienen una pequeña superposición con una buena detección (verdadero positivo) y también cuando tienen una baja superposición con una buena detección. Ademas no necesita re-entrenamiento y es facil de implentar."
   ]
  },
  {
   "cell_type": "code",
   "execution_count": null,
   "metadata": {},
   "outputs": [],
   "source": []
  }
 ],
 "metadata": {
  "kernelspec": {
   "display_name": "Python 3",
   "language": "python",
   "name": "python3"
  },
  "language_info": {
   "codemirror_mode": {
    "name": "ipython",
    "version": 3
   },
   "file_extension": ".py",
   "mimetype": "text/x-python",
   "name": "python",
   "nbconvert_exporter": "python",
   "pygments_lexer": "ipython3",
   "version": "3.6.5"
  }
 },
 "nbformat": 4,
 "nbformat_minor": 2
}
